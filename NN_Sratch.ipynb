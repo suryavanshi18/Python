{
  "nbformat": 4,
  "nbformat_minor": 0,
  "metadata": {
    "colab": {
      "provenance": [],
      "authorship_tag": "ABX9TyOsGR1oKUE6b6d6BGcdqWCs",
      "include_colab_link": true
    },
    "kernelspec": {
      "name": "python3",
      "display_name": "Python 3"
    },
    "language_info": {
      "name": "python"
    }
  },
  "cells": [
    {
      "cell_type": "markdown",
      "metadata": {
        "id": "view-in-github",
        "colab_type": "text"
      },
      "source": [
        "<a href=\"https://colab.research.google.com/github/suryavanshi18/Python/blob/main/NN_Sratch.ipynb\" target=\"_parent\"><img src=\"https://colab.research.google.com/assets/colab-badge.svg\" alt=\"Open In Colab\"/></a>"
      ]
    },
    {
      "cell_type": "code",
      "source": [
        "import numpy as np\n",
        "import pandas as pd\n",
        "import matplotlib.pyplot as plt"
      ],
      "metadata": {
        "id": "nBDMLpIQv5wN"
      },
      "execution_count": 2,
      "outputs": []
    },
    {
      "cell_type": "code",
      "source": [
        "from google.colab import files\n",
        "files.upload()"
      ],
      "metadata": {
        "colab": {
          "base_uri": "https://localhost:8080/",
          "height": 90
        },
        "id": "5IKKe64qwCUN",
        "outputId": "5a1ea29a-e6a7-4819-ee45-a28f8ef180d3"
      },
      "execution_count": 3,
      "outputs": [
        {
          "output_type": "display_data",
          "data": {
            "text/plain": [
              "<IPython.core.display.HTML object>"
            ],
            "text/html": [
              "\n",
              "     <input type=\"file\" id=\"files-ac4eba9d-f3a2-4171-a054-0a3d11db5b01\" name=\"files[]\" multiple disabled\n",
              "        style=\"border:none\" />\n",
              "     <output id=\"result-ac4eba9d-f3a2-4171-a054-0a3d11db5b01\">\n",
              "      Upload widget is only available when the cell has been executed in the\n",
              "      current browser session. Please rerun this cell to enable.\n",
              "      </output>\n",
              "      <script>// Copyright 2017 Google LLC\n",
              "//\n",
              "// Licensed under the Apache License, Version 2.0 (the \"License\");\n",
              "// you may not use this file except in compliance with the License.\n",
              "// You may obtain a copy of the License at\n",
              "//\n",
              "//      http://www.apache.org/licenses/LICENSE-2.0\n",
              "//\n",
              "// Unless required by applicable law or agreed to in writing, software\n",
              "// distributed under the License is distributed on an \"AS IS\" BASIS,\n",
              "// WITHOUT WARRANTIES OR CONDITIONS OF ANY KIND, either express or implied.\n",
              "// See the License for the specific language governing permissions and\n",
              "// limitations under the License.\n",
              "\n",
              "/**\n",
              " * @fileoverview Helpers for google.colab Python module.\n",
              " */\n",
              "(function(scope) {\n",
              "function span(text, styleAttributes = {}) {\n",
              "  const element = document.createElement('span');\n",
              "  element.textContent = text;\n",
              "  for (const key of Object.keys(styleAttributes)) {\n",
              "    element.style[key] = styleAttributes[key];\n",
              "  }\n",
              "  return element;\n",
              "}\n",
              "\n",
              "// Max number of bytes which will be uploaded at a time.\n",
              "const MAX_PAYLOAD_SIZE = 100 * 1024;\n",
              "\n",
              "function _uploadFiles(inputId, outputId) {\n",
              "  const steps = uploadFilesStep(inputId, outputId);\n",
              "  const outputElement = document.getElementById(outputId);\n",
              "  // Cache steps on the outputElement to make it available for the next call\n",
              "  // to uploadFilesContinue from Python.\n",
              "  outputElement.steps = steps;\n",
              "\n",
              "  return _uploadFilesContinue(outputId);\n",
              "}\n",
              "\n",
              "// This is roughly an async generator (not supported in the browser yet),\n",
              "// where there are multiple asynchronous steps and the Python side is going\n",
              "// to poll for completion of each step.\n",
              "// This uses a Promise to block the python side on completion of each step,\n",
              "// then passes the result of the previous step as the input to the next step.\n",
              "function _uploadFilesContinue(outputId) {\n",
              "  const outputElement = document.getElementById(outputId);\n",
              "  const steps = outputElement.steps;\n",
              "\n",
              "  const next = steps.next(outputElement.lastPromiseValue);\n",
              "  return Promise.resolve(next.value.promise).then((value) => {\n",
              "    // Cache the last promise value to make it available to the next\n",
              "    // step of the generator.\n",
              "    outputElement.lastPromiseValue = value;\n",
              "    return next.value.response;\n",
              "  });\n",
              "}\n",
              "\n",
              "/**\n",
              " * Generator function which is called between each async step of the upload\n",
              " * process.\n",
              " * @param {string} inputId Element ID of the input file picker element.\n",
              " * @param {string} outputId Element ID of the output display.\n",
              " * @return {!Iterable<!Object>} Iterable of next steps.\n",
              " */\n",
              "function* uploadFilesStep(inputId, outputId) {\n",
              "  const inputElement = document.getElementById(inputId);\n",
              "  inputElement.disabled = false;\n",
              "\n",
              "  const outputElement = document.getElementById(outputId);\n",
              "  outputElement.innerHTML = '';\n",
              "\n",
              "  const pickedPromise = new Promise((resolve) => {\n",
              "    inputElement.addEventListener('change', (e) => {\n",
              "      resolve(e.target.files);\n",
              "    });\n",
              "  });\n",
              "\n",
              "  const cancel = document.createElement('button');\n",
              "  inputElement.parentElement.appendChild(cancel);\n",
              "  cancel.textContent = 'Cancel upload';\n",
              "  const cancelPromise = new Promise((resolve) => {\n",
              "    cancel.onclick = () => {\n",
              "      resolve(null);\n",
              "    };\n",
              "  });\n",
              "\n",
              "  // Wait for the user to pick the files.\n",
              "  const files = yield {\n",
              "    promise: Promise.race([pickedPromise, cancelPromise]),\n",
              "    response: {\n",
              "      action: 'starting',\n",
              "    }\n",
              "  };\n",
              "\n",
              "  cancel.remove();\n",
              "\n",
              "  // Disable the input element since further picks are not allowed.\n",
              "  inputElement.disabled = true;\n",
              "\n",
              "  if (!files) {\n",
              "    return {\n",
              "      response: {\n",
              "        action: 'complete',\n",
              "      }\n",
              "    };\n",
              "  }\n",
              "\n",
              "  for (const file of files) {\n",
              "    const li = document.createElement('li');\n",
              "    li.append(span(file.name, {fontWeight: 'bold'}));\n",
              "    li.append(span(\n",
              "        `(${file.type || 'n/a'}) - ${file.size} bytes, ` +\n",
              "        `last modified: ${\n",
              "            file.lastModifiedDate ? file.lastModifiedDate.toLocaleDateString() :\n",
              "                                    'n/a'} - `));\n",
              "    const percent = span('0% done');\n",
              "    li.appendChild(percent);\n",
              "\n",
              "    outputElement.appendChild(li);\n",
              "\n",
              "    const fileDataPromise = new Promise((resolve) => {\n",
              "      const reader = new FileReader();\n",
              "      reader.onload = (e) => {\n",
              "        resolve(e.target.result);\n",
              "      };\n",
              "      reader.readAsArrayBuffer(file);\n",
              "    });\n",
              "    // Wait for the data to be ready.\n",
              "    let fileData = yield {\n",
              "      promise: fileDataPromise,\n",
              "      response: {\n",
              "        action: 'continue',\n",
              "      }\n",
              "    };\n",
              "\n",
              "    // Use a chunked sending to avoid message size limits. See b/62115660.\n",
              "    let position = 0;\n",
              "    do {\n",
              "      const length = Math.min(fileData.byteLength - position, MAX_PAYLOAD_SIZE);\n",
              "      const chunk = new Uint8Array(fileData, position, length);\n",
              "      position += length;\n",
              "\n",
              "      const base64 = btoa(String.fromCharCode.apply(null, chunk));\n",
              "      yield {\n",
              "        response: {\n",
              "          action: 'append',\n",
              "          file: file.name,\n",
              "          data: base64,\n",
              "        },\n",
              "      };\n",
              "\n",
              "      let percentDone = fileData.byteLength === 0 ?\n",
              "          100 :\n",
              "          Math.round((position / fileData.byteLength) * 100);\n",
              "      percent.textContent = `${percentDone}% done`;\n",
              "\n",
              "    } while (position < fileData.byteLength);\n",
              "  }\n",
              "\n",
              "  // All done.\n",
              "  yield {\n",
              "    response: {\n",
              "      action: 'complete',\n",
              "    }\n",
              "  };\n",
              "}\n",
              "\n",
              "scope.google = scope.google || {};\n",
              "scope.google.colab = scope.google.colab || {};\n",
              "scope.google.colab._files = {\n",
              "  _uploadFiles,\n",
              "  _uploadFilesContinue,\n",
              "};\n",
              "})(self);\n",
              "</script> "
            ]
          },
          "metadata": {}
        },
        {
          "output_type": "stream",
          "name": "stdout",
          "text": [
            "Saving kaggle.json to kaggle.json\n"
          ]
        },
        {
          "output_type": "execute_result",
          "data": {
            "text/plain": [
              "{'kaggle.json': b'{\"username\":\"abhi97\",\"key\":\"bcecae12ff7902c339c7b1a9de5ce1ce\"}'}"
            ]
          },
          "metadata": {},
          "execution_count": 3
        }
      ]
    },
    {
      "cell_type": "code",
      "source": [
        "!pip install -U -q kaggle"
      ],
      "metadata": {
        "id": "8aIt0s3jwt_C"
      },
      "execution_count": 4,
      "outputs": []
    },
    {
      "cell_type": "code",
      "source": [
        "!mkdir -p ~/.kaggle\n",
        "!cp kaggle.json ~/.kaggle/"
      ],
      "metadata": {
        "id": "_anEHFYQw9su"
      },
      "execution_count": 4,
      "outputs": []
    },
    {
      "cell_type": "code",
      "source": [
        "!chmod 600 ~/.kaggle/kaggle.json"
      ],
      "metadata": {
        "id": "Wm3_anJyxAl_"
      },
      "execution_count": 5,
      "outputs": []
    },
    {
      "cell_type": "code",
      "source": [
        "!kaggle competitions download -c digit-recognizer"
      ],
      "metadata": {
        "colab": {
          "base_uri": "https://localhost:8080/"
        },
        "id": "P9X6MpfpxBaW",
        "outputId": "f349d133-476c-434d-acb1-c013a97fc24f"
      },
      "execution_count": 6,
      "outputs": [
        {
          "output_type": "stream",
          "name": "stdout",
          "text": [
            "Downloading digit-recognizer.zip to /content\n",
            " 98% 15.0M/15.3M [00:01<00:00, 21.3MB/s]\n",
            "100% 15.3M/15.3M [00:01<00:00, 12.3MB/s]\n"
          ]
        }
      ]
    },
    {
      "cell_type": "code",
      "source": [
        "!unzip digit-recognizer.zip"
      ],
      "metadata": {
        "colab": {
          "base_uri": "https://localhost:8080/"
        },
        "id": "8pw39N24xxk2",
        "outputId": "e123b0f6-464a-43d2-e1fe-b95a6e28ee32"
      },
      "execution_count": 7,
      "outputs": [
        {
          "output_type": "stream",
          "name": "stdout",
          "text": [
            "Archive:  digit-recognizer.zip\n",
            "  inflating: sample_submission.csv   \n",
            "  inflating: test.csv                \n",
            "  inflating: train.csv               \n"
          ]
        }
      ]
    },
    {
      "cell_type": "code",
      "source": [
        "data=pd.read_csv('train.csv')"
      ],
      "metadata": {
        "id": "fAjqLupRxW_f"
      },
      "execution_count": 87,
      "outputs": []
    },
    {
      "cell_type": "code",
      "source": [
        "data.head()"
      ],
      "metadata": {
        "colab": {
          "base_uri": "https://localhost:8080/",
          "height": 255
        },
        "id": "u_zKEJ1IyBax",
        "outputId": "1f60de28-e2b3-4806-f6c1-2ccccb7e14c6"
      },
      "execution_count": 88,
      "outputs": [
        {
          "output_type": "execute_result",
          "data": {
            "text/plain": [
              "   label  pixel0  pixel1  pixel2  pixel3  pixel4  pixel5  pixel6  pixel7  \\\n",
              "0      1       0       0       0       0       0       0       0       0   \n",
              "1      0       0       0       0       0       0       0       0       0   \n",
              "2      1       0       0       0       0       0       0       0       0   \n",
              "3      4       0       0       0       0       0       0       0       0   \n",
              "4      0       0       0       0       0       0       0       0       0   \n",
              "\n",
              "   pixel8  ...  pixel774  pixel775  pixel776  pixel777  pixel778  pixel779  \\\n",
              "0       0  ...         0         0         0         0         0         0   \n",
              "1       0  ...         0         0         0         0         0         0   \n",
              "2       0  ...         0         0         0         0         0         0   \n",
              "3       0  ...         0         0         0         0         0         0   \n",
              "4       0  ...         0         0         0         0         0         0   \n",
              "\n",
              "   pixel780  pixel781  pixel782  pixel783  \n",
              "0         0         0         0         0  \n",
              "1         0         0         0         0  \n",
              "2         0         0         0         0  \n",
              "3         0         0         0         0  \n",
              "4         0         0         0         0  \n",
              "\n",
              "[5 rows x 785 columns]"
            ],
            "text/html": [
              "\n",
              "  <div id=\"df-f90ebb6b-44fd-42c8-a51e-d025d1e28944\" class=\"colab-df-container\">\n",
              "    <div>\n",
              "<style scoped>\n",
              "    .dataframe tbody tr th:only-of-type {\n",
              "        vertical-align: middle;\n",
              "    }\n",
              "\n",
              "    .dataframe tbody tr th {\n",
              "        vertical-align: top;\n",
              "    }\n",
              "\n",
              "    .dataframe thead th {\n",
              "        text-align: right;\n",
              "    }\n",
              "</style>\n",
              "<table border=\"1\" class=\"dataframe\">\n",
              "  <thead>\n",
              "    <tr style=\"text-align: right;\">\n",
              "      <th></th>\n",
              "      <th>label</th>\n",
              "      <th>pixel0</th>\n",
              "      <th>pixel1</th>\n",
              "      <th>pixel2</th>\n",
              "      <th>pixel3</th>\n",
              "      <th>pixel4</th>\n",
              "      <th>pixel5</th>\n",
              "      <th>pixel6</th>\n",
              "      <th>pixel7</th>\n",
              "      <th>pixel8</th>\n",
              "      <th>...</th>\n",
              "      <th>pixel774</th>\n",
              "      <th>pixel775</th>\n",
              "      <th>pixel776</th>\n",
              "      <th>pixel777</th>\n",
              "      <th>pixel778</th>\n",
              "      <th>pixel779</th>\n",
              "      <th>pixel780</th>\n",
              "      <th>pixel781</th>\n",
              "      <th>pixel782</th>\n",
              "      <th>pixel783</th>\n",
              "    </tr>\n",
              "  </thead>\n",
              "  <tbody>\n",
              "    <tr>\n",
              "      <th>0</th>\n",
              "      <td>1</td>\n",
              "      <td>0</td>\n",
              "      <td>0</td>\n",
              "      <td>0</td>\n",
              "      <td>0</td>\n",
              "      <td>0</td>\n",
              "      <td>0</td>\n",
              "      <td>0</td>\n",
              "      <td>0</td>\n",
              "      <td>0</td>\n",
              "      <td>...</td>\n",
              "      <td>0</td>\n",
              "      <td>0</td>\n",
              "      <td>0</td>\n",
              "      <td>0</td>\n",
              "      <td>0</td>\n",
              "      <td>0</td>\n",
              "      <td>0</td>\n",
              "      <td>0</td>\n",
              "      <td>0</td>\n",
              "      <td>0</td>\n",
              "    </tr>\n",
              "    <tr>\n",
              "      <th>1</th>\n",
              "      <td>0</td>\n",
              "      <td>0</td>\n",
              "      <td>0</td>\n",
              "      <td>0</td>\n",
              "      <td>0</td>\n",
              "      <td>0</td>\n",
              "      <td>0</td>\n",
              "      <td>0</td>\n",
              "      <td>0</td>\n",
              "      <td>0</td>\n",
              "      <td>...</td>\n",
              "      <td>0</td>\n",
              "      <td>0</td>\n",
              "      <td>0</td>\n",
              "      <td>0</td>\n",
              "      <td>0</td>\n",
              "      <td>0</td>\n",
              "      <td>0</td>\n",
              "      <td>0</td>\n",
              "      <td>0</td>\n",
              "      <td>0</td>\n",
              "    </tr>\n",
              "    <tr>\n",
              "      <th>2</th>\n",
              "      <td>1</td>\n",
              "      <td>0</td>\n",
              "      <td>0</td>\n",
              "      <td>0</td>\n",
              "      <td>0</td>\n",
              "      <td>0</td>\n",
              "      <td>0</td>\n",
              "      <td>0</td>\n",
              "      <td>0</td>\n",
              "      <td>0</td>\n",
              "      <td>...</td>\n",
              "      <td>0</td>\n",
              "      <td>0</td>\n",
              "      <td>0</td>\n",
              "      <td>0</td>\n",
              "      <td>0</td>\n",
              "      <td>0</td>\n",
              "      <td>0</td>\n",
              "      <td>0</td>\n",
              "      <td>0</td>\n",
              "      <td>0</td>\n",
              "    </tr>\n",
              "    <tr>\n",
              "      <th>3</th>\n",
              "      <td>4</td>\n",
              "      <td>0</td>\n",
              "      <td>0</td>\n",
              "      <td>0</td>\n",
              "      <td>0</td>\n",
              "      <td>0</td>\n",
              "      <td>0</td>\n",
              "      <td>0</td>\n",
              "      <td>0</td>\n",
              "      <td>0</td>\n",
              "      <td>...</td>\n",
              "      <td>0</td>\n",
              "      <td>0</td>\n",
              "      <td>0</td>\n",
              "      <td>0</td>\n",
              "      <td>0</td>\n",
              "      <td>0</td>\n",
              "      <td>0</td>\n",
              "      <td>0</td>\n",
              "      <td>0</td>\n",
              "      <td>0</td>\n",
              "    </tr>\n",
              "    <tr>\n",
              "      <th>4</th>\n",
              "      <td>0</td>\n",
              "      <td>0</td>\n",
              "      <td>0</td>\n",
              "      <td>0</td>\n",
              "      <td>0</td>\n",
              "      <td>0</td>\n",
              "      <td>0</td>\n",
              "      <td>0</td>\n",
              "      <td>0</td>\n",
              "      <td>0</td>\n",
              "      <td>...</td>\n",
              "      <td>0</td>\n",
              "      <td>0</td>\n",
              "      <td>0</td>\n",
              "      <td>0</td>\n",
              "      <td>0</td>\n",
              "      <td>0</td>\n",
              "      <td>0</td>\n",
              "      <td>0</td>\n",
              "      <td>0</td>\n",
              "      <td>0</td>\n",
              "    </tr>\n",
              "  </tbody>\n",
              "</table>\n",
              "<p>5 rows × 785 columns</p>\n",
              "</div>\n",
              "    <div class=\"colab-df-buttons\">\n",
              "\n",
              "  <div class=\"colab-df-container\">\n",
              "    <button class=\"colab-df-convert\" onclick=\"convertToInteractive('df-f90ebb6b-44fd-42c8-a51e-d025d1e28944')\"\n",
              "            title=\"Convert this dataframe to an interactive table.\"\n",
              "            style=\"display:none;\">\n",
              "\n",
              "  <svg xmlns=\"http://www.w3.org/2000/svg\" height=\"24px\" viewBox=\"0 -960 960 960\">\n",
              "    <path d=\"M120-120v-720h720v720H120Zm60-500h600v-160H180v160Zm220 220h160v-160H400v160Zm0 220h160v-160H400v160ZM180-400h160v-160H180v160Zm440 0h160v-160H620v160ZM180-180h160v-160H180v160Zm440 0h160v-160H620v160Z\"/>\n",
              "  </svg>\n",
              "    </button>\n",
              "\n",
              "  <style>\n",
              "    .colab-df-container {\n",
              "      display:flex;\n",
              "      gap: 12px;\n",
              "    }\n",
              "\n",
              "    .colab-df-convert {\n",
              "      background-color: #E8F0FE;\n",
              "      border: none;\n",
              "      border-radius: 50%;\n",
              "      cursor: pointer;\n",
              "      display: none;\n",
              "      fill: #1967D2;\n",
              "      height: 32px;\n",
              "      padding: 0 0 0 0;\n",
              "      width: 32px;\n",
              "    }\n",
              "\n",
              "    .colab-df-convert:hover {\n",
              "      background-color: #E2EBFA;\n",
              "      box-shadow: 0px 1px 2px rgba(60, 64, 67, 0.3), 0px 1px 3px 1px rgba(60, 64, 67, 0.15);\n",
              "      fill: #174EA6;\n",
              "    }\n",
              "\n",
              "    .colab-df-buttons div {\n",
              "      margin-bottom: 4px;\n",
              "    }\n",
              "\n",
              "    [theme=dark] .colab-df-convert {\n",
              "      background-color: #3B4455;\n",
              "      fill: #D2E3FC;\n",
              "    }\n",
              "\n",
              "    [theme=dark] .colab-df-convert:hover {\n",
              "      background-color: #434B5C;\n",
              "      box-shadow: 0px 1px 3px 1px rgba(0, 0, 0, 0.15);\n",
              "      filter: drop-shadow(0px 1px 2px rgba(0, 0, 0, 0.3));\n",
              "      fill: #FFFFFF;\n",
              "    }\n",
              "  </style>\n",
              "\n",
              "    <script>\n",
              "      const buttonEl =\n",
              "        document.querySelector('#df-f90ebb6b-44fd-42c8-a51e-d025d1e28944 button.colab-df-convert');\n",
              "      buttonEl.style.display =\n",
              "        google.colab.kernel.accessAllowed ? 'block' : 'none';\n",
              "\n",
              "      async function convertToInteractive(key) {\n",
              "        const element = document.querySelector('#df-f90ebb6b-44fd-42c8-a51e-d025d1e28944');\n",
              "        const dataTable =\n",
              "          await google.colab.kernel.invokeFunction('convertToInteractive',\n",
              "                                                    [key], {});\n",
              "        if (!dataTable) return;\n",
              "\n",
              "        const docLinkHtml = 'Like what you see? Visit the ' +\n",
              "          '<a target=\"_blank\" href=https://colab.research.google.com/notebooks/data_table.ipynb>data table notebook</a>'\n",
              "          + ' to learn more about interactive tables.';\n",
              "        element.innerHTML = '';\n",
              "        dataTable['output_type'] = 'display_data';\n",
              "        await google.colab.output.renderOutput(dataTable, element);\n",
              "        const docLink = document.createElement('div');\n",
              "        docLink.innerHTML = docLinkHtml;\n",
              "        element.appendChild(docLink);\n",
              "      }\n",
              "    </script>\n",
              "  </div>\n",
              "\n",
              "\n",
              "<div id=\"df-448f39db-3891-4970-add6-6403a5ef48e4\">\n",
              "  <button class=\"colab-df-quickchart\" onclick=\"quickchart('df-448f39db-3891-4970-add6-6403a5ef48e4')\"\n",
              "            title=\"Suggest charts\"\n",
              "            style=\"display:none;\">\n",
              "\n",
              "<svg xmlns=\"http://www.w3.org/2000/svg\" height=\"24px\"viewBox=\"0 0 24 24\"\n",
              "     width=\"24px\">\n",
              "    <g>\n",
              "        <path d=\"M19 3H5c-1.1 0-2 .9-2 2v14c0 1.1.9 2 2 2h14c1.1 0 2-.9 2-2V5c0-1.1-.9-2-2-2zM9 17H7v-7h2v7zm4 0h-2V7h2v10zm4 0h-2v-4h2v4z\"/>\n",
              "    </g>\n",
              "</svg>\n",
              "  </button>\n",
              "\n",
              "<style>\n",
              "  .colab-df-quickchart {\n",
              "      --bg-color: #E8F0FE;\n",
              "      --fill-color: #1967D2;\n",
              "      --hover-bg-color: #E2EBFA;\n",
              "      --hover-fill-color: #174EA6;\n",
              "      --disabled-fill-color: #AAA;\n",
              "      --disabled-bg-color: #DDD;\n",
              "  }\n",
              "\n",
              "  [theme=dark] .colab-df-quickchart {\n",
              "      --bg-color: #3B4455;\n",
              "      --fill-color: #D2E3FC;\n",
              "      --hover-bg-color: #434B5C;\n",
              "      --hover-fill-color: #FFFFFF;\n",
              "      --disabled-bg-color: #3B4455;\n",
              "      --disabled-fill-color: #666;\n",
              "  }\n",
              "\n",
              "  .colab-df-quickchart {\n",
              "    background-color: var(--bg-color);\n",
              "    border: none;\n",
              "    border-radius: 50%;\n",
              "    cursor: pointer;\n",
              "    display: none;\n",
              "    fill: var(--fill-color);\n",
              "    height: 32px;\n",
              "    padding: 0;\n",
              "    width: 32px;\n",
              "  }\n",
              "\n",
              "  .colab-df-quickchart:hover {\n",
              "    background-color: var(--hover-bg-color);\n",
              "    box-shadow: 0 1px 2px rgba(60, 64, 67, 0.3), 0 1px 3px 1px rgba(60, 64, 67, 0.15);\n",
              "    fill: var(--button-hover-fill-color);\n",
              "  }\n",
              "\n",
              "  .colab-df-quickchart-complete:disabled,\n",
              "  .colab-df-quickchart-complete:disabled:hover {\n",
              "    background-color: var(--disabled-bg-color);\n",
              "    fill: var(--disabled-fill-color);\n",
              "    box-shadow: none;\n",
              "  }\n",
              "\n",
              "  .colab-df-spinner {\n",
              "    border: 2px solid var(--fill-color);\n",
              "    border-color: transparent;\n",
              "    border-bottom-color: var(--fill-color);\n",
              "    animation:\n",
              "      spin 1s steps(1) infinite;\n",
              "  }\n",
              "\n",
              "  @keyframes spin {\n",
              "    0% {\n",
              "      border-color: transparent;\n",
              "      border-bottom-color: var(--fill-color);\n",
              "      border-left-color: var(--fill-color);\n",
              "    }\n",
              "    20% {\n",
              "      border-color: transparent;\n",
              "      border-left-color: var(--fill-color);\n",
              "      border-top-color: var(--fill-color);\n",
              "    }\n",
              "    30% {\n",
              "      border-color: transparent;\n",
              "      border-left-color: var(--fill-color);\n",
              "      border-top-color: var(--fill-color);\n",
              "      border-right-color: var(--fill-color);\n",
              "    }\n",
              "    40% {\n",
              "      border-color: transparent;\n",
              "      border-right-color: var(--fill-color);\n",
              "      border-top-color: var(--fill-color);\n",
              "    }\n",
              "    60% {\n",
              "      border-color: transparent;\n",
              "      border-right-color: var(--fill-color);\n",
              "    }\n",
              "    80% {\n",
              "      border-color: transparent;\n",
              "      border-right-color: var(--fill-color);\n",
              "      border-bottom-color: var(--fill-color);\n",
              "    }\n",
              "    90% {\n",
              "      border-color: transparent;\n",
              "      border-bottom-color: var(--fill-color);\n",
              "    }\n",
              "  }\n",
              "</style>\n",
              "\n",
              "  <script>\n",
              "    async function quickchart(key) {\n",
              "      const quickchartButtonEl =\n",
              "        document.querySelector('#' + key + ' button');\n",
              "      quickchartButtonEl.disabled = true;  // To prevent multiple clicks.\n",
              "      quickchartButtonEl.classList.add('colab-df-spinner');\n",
              "      try {\n",
              "        const charts = await google.colab.kernel.invokeFunction(\n",
              "            'suggestCharts', [key], {});\n",
              "      } catch (error) {\n",
              "        console.error('Error during call to suggestCharts:', error);\n",
              "      }\n",
              "      quickchartButtonEl.classList.remove('colab-df-spinner');\n",
              "      quickchartButtonEl.classList.add('colab-df-quickchart-complete');\n",
              "    }\n",
              "    (() => {\n",
              "      let quickchartButtonEl =\n",
              "        document.querySelector('#df-448f39db-3891-4970-add6-6403a5ef48e4 button');\n",
              "      quickchartButtonEl.style.display =\n",
              "        google.colab.kernel.accessAllowed ? 'block' : 'none';\n",
              "    })();\n",
              "  </script>\n",
              "</div>\n",
              "    </div>\n",
              "  </div>\n"
            ]
          },
          "metadata": {},
          "execution_count": 88
        }
      ]
    },
    {
      "cell_type": "code",
      "source": [
        "data.shape"
      ],
      "metadata": {
        "colab": {
          "base_uri": "https://localhost:8080/"
        },
        "id": "XChcaoFKyRMf",
        "outputId": "2cb22b9f-4876-41a0-ad7e-1b80363e37dc"
      },
      "execution_count": 89,
      "outputs": [
        {
          "output_type": "execute_result",
          "data": {
            "text/plain": [
              "(42000, 785)"
            ]
          },
          "metadata": {},
          "execution_count": 89
        }
      ]
    },
    {
      "cell_type": "code",
      "source": [
        "data.iloc[2,3]#Column,row"
      ],
      "metadata": {
        "colab": {
          "base_uri": "https://localhost:8080/"
        },
        "id": "S8qD6vwfyFNm",
        "outputId": "ad53044f-aeb3-4950-c6b7-756e84073735"
      },
      "execution_count": 11,
      "outputs": [
        {
          "output_type": "execute_result",
          "data": {
            "text/plain": [
              "0"
            ]
          },
          "metadata": {},
          "execution_count": 11
        }
      ]
    },
    {
      "cell_type": "code",
      "source": [
        "type(data)"
      ],
      "metadata": {
        "colab": {
          "base_uri": "https://localhost:8080/"
        },
        "id": "KCqQuZSLyNew",
        "outputId": "48d12b2e-9f26-484d-c222-ef83307fe7d8"
      },
      "execution_count": 12,
      "outputs": [
        {
          "output_type": "execute_result",
          "data": {
            "text/plain": [
              "pandas.core.frame.DataFrame"
            ]
          },
          "metadata": {},
          "execution_count": 12
        }
      ]
    },
    {
      "cell_type": "code",
      "source": [
        "data['pixel0'][41999]"
      ],
      "metadata": {
        "colab": {
          "base_uri": "https://localhost:8080/"
        },
        "id": "lYNmp7r0yeWV",
        "outputId": "835a04f8-bf73-4ebc-b1fb-f3b26713de9e"
      },
      "execution_count": 13,
      "outputs": [
        {
          "output_type": "execute_result",
          "data": {
            "text/plain": [
              "0"
            ]
          },
          "metadata": {},
          "execution_count": 13
        }
      ]
    },
    {
      "cell_type": "code",
      "source": [
        "data=np.array(data)"
      ],
      "metadata": {
        "id": "_I5ADcQVyumr"
      },
      "execution_count": 90,
      "outputs": []
    },
    {
      "cell_type": "code",
      "source": [
        "data.shape"
      ],
      "metadata": {
        "colab": {
          "base_uri": "https://localhost:8080/"
        },
        "id": "hTTk4Zd8zEev",
        "outputId": "bab6d238-2e3f-41a7-dfa8-4f715824ef8d"
      },
      "execution_count": 91,
      "outputs": [
        {
          "output_type": "execute_result",
          "data": {
            "text/plain": [
              "(42000, 785)"
            ]
          },
          "metadata": {},
          "execution_count": 91
        }
      ]
    },
    {
      "cell_type": "code",
      "source": [
        "rows,cols=data.shape\n",
        "print(rows)\n",
        "print(cols)"
      ],
      "metadata": {
        "colab": {
          "base_uri": "https://localhost:8080/"
        },
        "id": "vv4x1MjPzF_v",
        "outputId": "b2fbff38-436d-43b1-99c0-c893728e93f5"
      },
      "execution_count": 92,
      "outputs": [
        {
          "output_type": "stream",
          "name": "stdout",
          "text": [
            "42000\n",
            "785\n"
          ]
        }
      ]
    },
    {
      "cell_type": "code",
      "source": [
        "data[41990:].shape"
      ],
      "metadata": {
        "colab": {
          "base_uri": "https://localhost:8080/"
        },
        "id": "mKRXFkIuzllk",
        "outputId": "32956726-fd59-47ff-b2f5-4d7dfb8d50cb"
      },
      "execution_count": 17,
      "outputs": [
        {
          "output_type": "execute_result",
          "data": {
            "text/plain": [
              "(10, 785)"
            ]
          },
          "metadata": {},
          "execution_count": 17
        }
      ]
    },
    {
      "cell_type": "code",
      "source": [
        "data[0].shape"
      ],
      "metadata": {
        "colab": {
          "base_uri": "https://localhost:8080/"
        },
        "id": "SN65hxQszOmv",
        "outputId": "20d02c3e-362b-41b2-c549-b1cde88bcb5c"
      },
      "execution_count": 18,
      "outputs": [
        {
          "output_type": "execute_result",
          "data": {
            "text/plain": [
              "(785,)"
            ]
          },
          "metadata": {},
          "execution_count": 18
        }
      ]
    },
    {
      "cell_type": "code",
      "source": [
        "np.random.shuffle(data)"
      ],
      "metadata": {
        "id": "qz2Vv0hU2ToU"
      },
      "execution_count": 93,
      "outputs": []
    },
    {
      "cell_type": "code",
      "source": [
        "data_dev=data[:2000]"
      ],
      "metadata": {
        "id": "i9iDOLh94PyK"
      },
      "execution_count": 94,
      "outputs": []
    },
    {
      "cell_type": "code",
      "source": [
        "y_dev=data_dev[:,0].T\n",
        "x_dev=data_dev[:,1:].T/255"
      ],
      "metadata": {
        "id": "p-CJzyBl4cli"
      },
      "execution_count": 110,
      "outputs": []
    },
    {
      "cell_type": "code",
      "source": [
        "x_dev[0].shape"
      ],
      "metadata": {
        "colab": {
          "base_uri": "https://localhost:8080/"
        },
        "id": "aUWgYhb74dlb",
        "outputId": "b08ddc8c-b98b-455a-e9e4-ba5c4d5675f9"
      },
      "execution_count": 96,
      "outputs": [
        {
          "output_type": "execute_result",
          "data": {
            "text/plain": [
              "(2000,)"
            ]
          },
          "metadata": {},
          "execution_count": 96
        }
      ]
    },
    {
      "cell_type": "code",
      "source": [
        "x_dev.shape"
      ],
      "metadata": {
        "colab": {
          "base_uri": "https://localhost:8080/"
        },
        "id": "U_4faZz5jCam",
        "outputId": "5b67d79c-ba92-4830-a5fe-05c412bd6bba"
      },
      "execution_count": 97,
      "outputs": [
        {
          "output_type": "execute_result",
          "data": {
            "text/plain": [
              "(784, 2000)"
            ]
          },
          "metadata": {},
          "execution_count": 97
        }
      ]
    },
    {
      "cell_type": "code",
      "source": [
        "data_train=data[2000:]\n",
        "y_train=data_train[:,0].T\n",
        "x_train=data_train[:,1:].T/255"
      ],
      "metadata": {
        "id": "Sn_NoJSL4yz5"
      },
      "execution_count": 111,
      "outputs": []
    },
    {
      "cell_type": "code",
      "source": [
        "x_train.shape"
      ],
      "metadata": {
        "colab": {
          "base_uri": "https://localhost:8080/"
        },
        "id": "omcsinfqjXDR",
        "outputId": "f0ec4065-30d6-4264-84e4-f8fd9bd204f9"
      },
      "execution_count": 99,
      "outputs": [
        {
          "output_type": "execute_result",
          "data": {
            "text/plain": [
              "(784, 40000)"
            ]
          },
          "metadata": {},
          "execution_count": 99
        }
      ]
    },
    {
      "cell_type": "markdown",
      "source": [
        "![image.png](data:image/png;base64,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)"
      ],
      "metadata": {
        "id": "sHJR4TQCzOWM"
      }
    },
    {
      "cell_type": "code",
      "source": [
        "#Only 2 layes in network\n",
        "def init_params():\n",
        "  w1=np.random.rand(10,784)-0.5\n",
        "  b1=np.random.rand(10,1)-0.5\n",
        "  w2=np.random.rand(10,10)-0.5\n",
        "  b2=np.random.rand(10,1)-0.5\n",
        "  return w1,b1,w2,b2"
      ],
      "metadata": {
        "id": "XBUUNcUz5NyK"
      },
      "execution_count": 117,
      "outputs": []
    },
    {
      "cell_type": "code",
      "source": [
        "def ReLu(x):\n",
        "  return np.maximum(x,0)\n",
        "def softmax(Z):\n",
        "    Z -= np.max(Z, axis=0)  # Subtract max value for numerical stability\n",
        "    A = np.exp(Z) / np.sum(np.exp(Z), axis=0)\n",
        "    return A\n",
        "def forward_prop(w1,b1,w2,b2,X):\n",
        "  z1=w1.dot(X)+b1\n",
        "  a1=ReLu(z1)\n",
        "  z2=w2.dot(a1)+b2\n",
        "  a2=softmax(z2)\n",
        "  return z1,a1,z2,a2\n",
        "def one_hot(Y):\n",
        "  one_hot_Y = np.zeros((Y.size, Y.max() + 1))\n",
        "  one_hot_Y[np.arange(Y.size), Y] = 1\n",
        "  one_hot_Y = one_hot_Y.T\n",
        "  return one_hot_Y\n",
        "def deriv_relu(Z):\n",
        "  return Z>0\n",
        "def back_prop(z1,a1,z2,a2,w1,w2,X,Y):\n",
        "  m=Y.size\n",
        "  encoded_y=one_hot(Y)\n",
        "  dz2=a2-encoded_y\n",
        "  dw2=1/m*dz2.dot(a1.T)\n",
        "  db2=1/m*np.sum(dz2)\n",
        "  dz1=w2.T.dot(dz2)*deriv_relu(z1)\n",
        "  dw1=1/m*dz1.dot(X.T)\n",
        "  db1=1/m*np.sum(dz1)\n",
        "  return dw1,db1,dw2,db2\n",
        "def update_params(w1,b1,w2,b2,dw1,db1,dw2,db2,alpha):\n",
        "  w1=w1-alpha*dw1\n",
        "  w2=w2-alpha*dw2\n",
        "  b1=b1-alpha*db1\n",
        "  b2=b2-alpha*db2\n",
        "  return w1,b1,w2,b2"
      ],
      "metadata": {
        "id": "Jp2BPF6z5y1m"
      },
      "execution_count": 118,
      "outputs": []
    },
    {
      "cell_type": "code",
      "source": [
        "def get_accuracy(y_pred,y):\n",
        "  return np.sum(y_pred==y)/y.size\n",
        "def get_predictions(A2):\n",
        "  return np.argmax(A2,0)"
      ],
      "metadata": {
        "id": "uxlCxt1SEYKe"
      },
      "execution_count": 119,
      "outputs": []
    },
    {
      "cell_type": "code",
      "source": [
        "def gradient_descent(X,Y,iterations,alpha):\n",
        "  w1,b1,w2,b2=init_params()\n",
        "  for i in range(iterations):\n",
        "    z1,a1,z2,a2=forward_prop(w1,b1,w2,b2,X)\n",
        "    dw1,db1,dw2,db2=back_prop(z1,a1,z2,a2,w1,w2,X,Y)\n",
        "    w1,b1,w2,b2=update_params(w1,b1,w2,b2,dw1,db1,dw2,db2,alpha)\n",
        "    if(i%10==0):\n",
        "      print('Iterations: ',i)\n",
        "      print('Accuracy: ',get_accuracy(get_predictions(a2),Y))\n",
        "  return w1,b1,w2,b2"
      ],
      "metadata": {
        "id": "XPU5nPP351BR"
      },
      "execution_count": 120,
      "outputs": []
    },
    {
      "cell_type": "code",
      "source": [
        "w1,b1,w2,b2=gradient_descent(x_train,y_train,500,0.1)"
      ],
      "metadata": {
        "colab": {
          "base_uri": "https://localhost:8080/"
        },
        "id": "ENTSjyv2_vc1",
        "outputId": "e71853f6-6ac8-48bf-c716-998ff3b8bae9"
      },
      "execution_count": 121,
      "outputs": [
        {
          "output_type": "stream",
          "name": "stdout",
          "text": [
            "Iterations:  0\n",
            "Accuracy:  0.111925\n",
            "Iterations:  10\n",
            "Accuracy:  0.172675\n",
            "Iterations:  20\n",
            "Accuracy:  0.271725\n",
            "Iterations:  30\n",
            "Accuracy:  0.36645\n",
            "Iterations:  40\n",
            "Accuracy:  0.44635\n",
            "Iterations:  50\n",
            "Accuracy:  0.5046\n",
            "Iterations:  60\n",
            "Accuracy:  0.5469\n",
            "Iterations:  70\n",
            "Accuracy:  0.5814\n",
            "Iterations:  80\n",
            "Accuracy:  0.610675\n",
            "Iterations:  90\n",
            "Accuracy:  0.635825\n",
            "Iterations:  100\n",
            "Accuracy:  0.65735\n",
            "Iterations:  110\n",
            "Accuracy:  0.675775\n",
            "Iterations:  120\n",
            "Accuracy:  0.6907\n",
            "Iterations:  130\n",
            "Accuracy:  0.7052\n",
            "Iterations:  140\n",
            "Accuracy:  0.717925\n",
            "Iterations:  150\n",
            "Accuracy:  0.728225\n",
            "Iterations:  160\n",
            "Accuracy:  0.7378\n",
            "Iterations:  170\n",
            "Accuracy:  0.747125\n",
            "Iterations:  180\n",
            "Accuracy:  0.7547\n",
            "Iterations:  190\n",
            "Accuracy:  0.7618\n",
            "Iterations:  200\n",
            "Accuracy:  0.76845\n",
            "Iterations:  210\n",
            "Accuracy:  0.7743\n",
            "Iterations:  220\n",
            "Accuracy:  0.780575\n",
            "Iterations:  230\n",
            "Accuracy:  0.7853\n",
            "Iterations:  240\n",
            "Accuracy:  0.7902\n",
            "Iterations:  250\n",
            "Accuracy:  0.794175\n",
            "Iterations:  260\n",
            "Accuracy:  0.797975\n",
            "Iterations:  270\n",
            "Accuracy:  0.80175\n",
            "Iterations:  280\n",
            "Accuracy:  0.805225\n",
            "Iterations:  290\n",
            "Accuracy:  0.808175\n",
            "Iterations:  300\n",
            "Accuracy:  0.811125\n",
            "Iterations:  310\n",
            "Accuracy:  0.81355\n",
            "Iterations:  320\n",
            "Accuracy:  0.816825\n",
            "Iterations:  330\n",
            "Accuracy:  0.819175\n",
            "Iterations:  340\n",
            "Accuracy:  0.82155\n",
            "Iterations:  350\n",
            "Accuracy:  0.824125\n",
            "Iterations:  360\n",
            "Accuracy:  0.826325\n",
            "Iterations:  370\n",
            "Accuracy:  0.8281\n",
            "Iterations:  380\n",
            "Accuracy:  0.830225\n",
            "Iterations:  390\n",
            "Accuracy:  0.832325\n",
            "Iterations:  400\n",
            "Accuracy:  0.833875\n",
            "Iterations:  410\n",
            "Accuracy:  0.83565\n",
            "Iterations:  420\n",
            "Accuracy:  0.837\n",
            "Iterations:  430\n",
            "Accuracy:  0.838225\n",
            "Iterations:  440\n",
            "Accuracy:  0.839775\n",
            "Iterations:  450\n",
            "Accuracy:  0.8412\n",
            "Iterations:  460\n",
            "Accuracy:  0.8427\n",
            "Iterations:  470\n",
            "Accuracy:  0.8437\n",
            "Iterations:  480\n",
            "Accuracy:  0.845025\n",
            "Iterations:  490\n",
            "Accuracy:  0.846075\n"
          ]
        }
      ]
    },
    {
      "cell_type": "code",
      "source": [
        "def make_predictions(x,w1,b1,w2,b2):\n",
        "  _,_,_,a2=forward_prop(w1,b1,w2,b2,x)\n",
        "  return get_predictions(a2)\n",
        "def test_prediction(index,w1,b1,w2,b2):\n",
        "  curr_img=x_train[:,index,None]\n",
        "  preds=make_predictions(curr_img,w1,b1,w2,b2)\n",
        "  label=y_train[index]\n",
        "  print(\"Prediction: \",preds)\n",
        "  print(\"Label: \",label)\n",
        "  curr_img=curr_img.reshape((28,28))*255\n",
        "  plt.gray()\n",
        "  plt.imshow(curr_img,interpolation='nearest')\n",
        "  plt.show()"
      ],
      "metadata": {
        "id": "HfJ3RKqu_xWs"
      },
      "execution_count": 122,
      "outputs": []
    },
    {
      "cell_type": "code",
      "source": [
        "test_prediction(0,w1,b1,w2,b2)\n",
        "test_prediction(1,w1,b1,w2,b2)\n",
        "test_prediction(2,w1,b1,w2,b2)\n",
        "test_prediction(3,w1,b1,w2,b2)"
      ],
      "metadata": {
        "colab": {
          "base_uri": "https://localhost:8080/",
          "height": 1000
        },
        "id": "nWXED1GOAMNU",
        "outputId": "854882a5-9b9b-46ef-8f7f-ee4b71837992"
      },
      "execution_count": 123,
      "outputs": [
        {
          "output_type": "stream",
          "name": "stdout",
          "text": [
            "Prediction:  [8]\n",
            "Label:  8\n"
          ]
        },
        {
          "output_type": "display_data",
          "data": {
            "text/plain": [
              "<Figure size 640x480 with 1 Axes>"
            ],
            "image/png": "[encoded data removed]"
          },
          "metadata": {}
        },
        {
          "output_type": "stream",
          "name": "stdout",
          "text": [
            "Prediction:  [7]\n",
            "Label:  7\n"
          ]
        },
        {
          "output_type": "display_data",
          "data": {
            "text/plain": [
              "<Figure size 640x480 with 1 Axes>"
            ],
            "image/png": "[encoded data removed]"
          },
          "metadata": {}
        },
        {
          "output_type": "stream",
          "name": "stdout",
          "text": [
            "Prediction:  [3]\n",
            "Label:  3\n"
          ]
        },
        {
          "output_type": "display_data",
          "data": {
            "text/plain": [
              "<Figure size 640x480 with 1 Axes>"
            ],
            "image/png": "[encoded data removed]"
          },
          "metadata": {}
        },
        {
          "output_type": "stream",
          "name": "stdout",
          "text": [
            "Prediction:  [6]\n",
            "Label:  6\n"
          ]
        },
        {
          "output_type": "display_data",
          "data": {
            "text/plain": [
              "<Figure size 640x480 with 1 Axes>"
            ],
            "image/png": "[encoded data removed]"
          },
          "metadata": {}
        }
      ]
    },
    {
      "cell_type": "code",
      "source": [
        "dev_predictions = make_predictions(x_dev, w1, b1, w2, b2)\n",
        "print(\"Accuracy on test set:\",get_accuracy(dev_predictions, y_dev)*100,\"%\")"
      ],
      "metadata": {
        "colab": {
          "base_uri": "https://localhost:8080/"
        },
        "id": "Dj607_oIAvRT",
        "outputId": "699b6fe9-f9aa-46c5-9c80-d4cced886607"
      },
      "execution_count": 124,
      "outputs": [
        {
          "output_type": "stream",
          "name": "stdout",
          "text": [
            "Accuracy on test set: 84.35000000000001 %\n"
          ]
        }
      ]
    },
    {
      "cell_type": "code",
      "source": [],
      "metadata": {
        "id": "IMGGHNX4q2NY"
      },
      "execution_count": null,
      "outputs": []
    }
  ]
}